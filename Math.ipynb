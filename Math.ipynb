{
 "cells": [
  {
   "cell_type": "code",
   "execution_count": 4,
   "metadata": {},
   "outputs": [],
   "source": [
    "import numpy as np"
   ]
  },
  {
   "cell_type": "code",
   "execution_count": 5,
   "metadata": {},
   "outputs": [
    {
     "name": "stdout",
     "output_type": "stream",
     "text": [
      "[[75 80 85]\n",
      " [85 80 75]\n",
      " [80 85 90]\n",
      " [90 85 80]\n",
      " [70 80 90]]\n"
     ]
    }
   ],
   "source": [
    "scores = np.array([\n",
    "    [75,80,85],\n",
    "    [85,80,75],\n",
    "    [80,85,90],\n",
    "    [90,85,80],\n",
    "    [70,80,90]\n",
    "])\n",
    "print(scores)"
   ]
  },
  {
   "cell_type": "code",
   "execution_count": 5,
   "metadata": {},
   "outputs": [
    {
     "name": "stdout",
     "output_type": "stream",
     "text": [
      "[70 80 75]\n",
      "[75 75 80 80 70]\n"
     ]
    }
   ],
   "source": [
    "print(np.min(scores, axis=0))\n",
    "print(np.min(scores, axis=1))"
   ]
  },
  {
   "cell_type": "code",
   "execution_count": 6,
   "metadata": {},
   "outputs": [
    {
     "name": "stdout",
     "output_type": "stream",
     "text": [
      "[90 85 90]\n",
      "[85 85 90 90 90]\n"
     ]
    }
   ],
   "source": [
    "print(np.max(scores, axis=0))\n",
    "print(np.max(scores, axis=1))"
   ]
  },
  {
   "cell_type": "code",
   "execution_count": 7,
   "metadata": {},
   "outputs": [
    {
     "name": "stdout",
     "output_type": "stream",
     "text": [
      "[80. 82. 84.]\n",
      "[80. 80. 85. 85. 80.]\n"
     ]
    }
   ],
   "source": [
    "print(np.mean(scores, axis=0))\n",
    "print(np.mean(scores, axis=1))"
   ]
  },
  {
   "cell_type": "code",
   "execution_count": 8,
   "metadata": {},
   "outputs": [
    {
     "name": "stdout",
     "output_type": "stream",
     "text": [
      "[240 240 255 255 240]\n"
     ]
    }
   ],
   "source": [
    "print(np.sum(scores, axis=1))"
   ]
  },
  {
   "cell_type": "code",
   "execution_count": 11,
   "metadata": {},
   "outputs": [
    {
     "name": "stdout",
     "output_type": "stream",
     "text": [
      "x: [-5 -4 -3 -2 -1  0  1  2  3  4]\n",
      "y: [ 0  2  4  6  8 10 12 14 16 18]\n"
     ]
    }
   ],
   "source": [
    "x = np.arange(-5,5)\n",
    "print('x:',x)\n",
    "\n",
    "y = 2*x + 10\n",
    "print('y:',y)"
   ]
  },
  {
   "attachments": {},
   "cell_type": "markdown",
   "metadata": {},
   "source": [
    "### Sorting and Filtering/Searching"
   ]
  },
  {
   "cell_type": "code",
   "execution_count": 6,
   "metadata": {},
   "outputs": [
    {
     "data": {
      "text/plain": [
       "array([[75, 80, 85],\n",
       "       [85, 80, 75],\n",
       "       [80, 85, 90],\n",
       "       [90, 85, 80],\n",
       "       [70, 80, 90]])"
      ]
     },
     "execution_count": 6,
     "metadata": {},
     "output_type": "execute_result"
    }
   ],
   "source": [
    "scores"
   ]
  },
  {
   "cell_type": "code",
   "execution_count": 7,
   "metadata": {},
   "outputs": [
    {
     "name": "stdout",
     "output_type": "stream",
     "text": [
      "[[70 80 75]\n",
      " [75 80 80]\n",
      " [80 80 85]\n",
      " [85 85 90]\n",
      " [90 85 90]] \n",
      "\n",
      "[[75 80 85]\n",
      " [75 80 85]\n",
      " [80 85 90]\n",
      " [80 85 90]\n",
      " [70 80 90]]\n"
     ]
    }
   ],
   "source": [
    "# Ascending sort\n",
    "print(np.sort(scores, axis=0),'\\n')\n",
    "print(np.sort(scores, axis=1))"
   ]
  },
  {
   "cell_type": "code",
   "execution_count": 15,
   "metadata": {},
   "outputs": [
    {
     "name": "stdout",
     "output_type": "stream",
     "text": [
      "[[85 80 75]\n",
      " [85 80 75]\n",
      " [90 85 80]\n",
      " [90 85 80]\n",
      " [90 80 70]]\n"
     ]
    }
   ],
   "source": [
    "# Descending sort\n",
    "print(-(np.sort(-scores, axis=1)))"
   ]
  },
  {
   "cell_type": "code",
   "execution_count": 19,
   "metadata": {},
   "outputs": [
    {
     "name": "stdout",
     "output_type": "stream",
     "text": [
      "[('C100', 'David', 35) ('C200', 'Stave', 22) ('C300', 'John', 55)]\n"
     ]
    }
   ],
   "source": [
    "#Create cuntomer data type\n",
    "customer_dtype = np.dtype([('cid',str,10),('name', str,30),('age',np.int8)])\n",
    "\n",
    "# Create customer records\n",
    "cust_list = [('C100', 'David',35), ('C200','Stave',22), ('C300',\"John\",55)]\n",
    "\n",
    "# Create NumPy array\n",
    "customers = np.array(cust_list,customer_dtype)\n",
    "\n",
    "print(customers)"
   ]
  },
  {
   "cell_type": "code",
   "execution_count": 21,
   "metadata": {},
   "outputs": [
    {
     "name": "stdout",
     "output_type": "stream",
     "text": [
      "[('C200', 'Stave', 22) ('C100', 'David', 35) ('C300', 'John', 55)]\n"
     ]
    }
   ],
   "source": [
    "print(np.sort(customers, order='age'))"
   ]
  },
  {
   "cell_type": "code",
   "execution_count": 22,
   "metadata": {},
   "outputs": [
    {
     "name": "stdout",
     "output_type": "stream",
     "text": [
      "[('C300', 'John', 55) ('C100', 'David', 35) ('C200', 'Stave', 22)]\n"
     ]
    }
   ],
   "source": [
    "print(np.sort(customers, order='age')[::-1])"
   ]
  },
  {
   "cell_type": "code",
   "execution_count": null,
   "metadata": {},
   "outputs": [],
   "source": []
  }
 ],
 "metadata": {
  "kernelspec": {
   "display_name": "Python 3",
   "language": "python",
   "name": "python3"
  },
  "language_info": {
   "codemirror_mode": {
    "name": "ipython",
    "version": 3
   },
   "file_extension": ".py",
   "mimetype": "text/x-python",
   "name": "python",
   "nbconvert_exporter": "python",
   "pygments_lexer": "ipython3",
   "version": "3.11.0"
  },
  "orig_nbformat": 4,
  "vscode": {
   "interpreter": {
    "hash": "cb4f8a03642b47cb027eefd1535a14aa954300fd8261a8da54e94e47011c5925"
   }
  }
 },
 "nbformat": 4,
 "nbformat_minor": 2
}
