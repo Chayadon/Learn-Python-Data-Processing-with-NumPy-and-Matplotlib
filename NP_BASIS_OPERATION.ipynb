{
 "cells": [
  {
   "attachments": {},
   "cell_type": "markdown",
   "metadata": {},
   "source": [
    "## Numpy- Basic Operation\n",
    "Vectorization"
   ]
  },
  {
   "cell_type": "code",
   "execution_count": 1,
   "metadata": {},
   "outputs": [],
   "source": [
    "import numpy as np"
   ]
  },
  {
   "cell_type": "code",
   "execution_count": 5,
   "metadata": {},
   "outputs": [
    {
     "name": "stdout",
     "output_type": "stream",
     "text": [
      "x:\n",
      " [0 1 2 3 4] \n",
      "\n",
      "y:\n",
      " [5 6 7 8 9] \n",
      "\n",
      "[ 5  7  9 11 13]\n"
     ]
    }
   ],
   "source": [
    "x = np.arange(0,5)\n",
    "y = np.arange(5,10)\n",
    "print('x:\\n',x,'\\n')\n",
    "print('y:\\n',y,'\\n')\n",
    "\n",
    "print(x+y)"
   ]
  },
  {
   "cell_type": "code",
   "execution_count": 12,
   "metadata": {},
   "outputs": [
    {
     "name": "stdout",
     "output_type": "stream",
     "text": [
      "x:\n",
      " [0 1 2 3 4]\n",
      "x.shape =  (5,) \n",
      "\n",
      "y:\n",
      " [5]\n",
      "y.shape =  (1,) \n",
      "\n",
      "[5 6 7 8 9]\n"
     ]
    }
   ],
   "source": [
    "x = np.arange(0,5)\n",
    "y = np.arange(5,6)\n",
    "print('x:\\n',x)\n",
    "print('x.shape = ',x.shape,'\\n')\n",
    "print('y:\\n',y)\n",
    "print('y.shape = ',y.shape,'\\n')\n",
    "\n",
    "print(x+y)"
   ]
  },
  {
   "attachments": {},
   "cell_type": "markdown",
   "metadata": {},
   "source": [
    "Numpy Operation on arrays with Compatible dimensions"
   ]
  },
  {
   "cell_type": "code",
   "execution_count": 15,
   "metadata": {},
   "outputs": [
    {
     "name": "stdout",
     "output_type": "stream",
     "text": [
      "x:\n",
      " [0 1 2 3 4]\n",
      "x.shape =  (5,) \n",
      "\n",
      "y:\n",
      " [10]\n",
      "y.shape =  (1,) \n",
      "\n",
      "x*y = [ 0 10 20 30 40]\n"
     ]
    }
   ],
   "source": [
    "x = np.arange(0,5)\n",
    "y = np.array([10])\n",
    "print('x:\\n',x)\n",
    "print('x.shape = ',x.shape,'\\n')\n",
    "print('y:\\n',y)\n",
    "print('y.shape = ',y.shape,'\\n')\n",
    "print('x*y =', x*y)"
   ]
  },
  {
   "cell_type": "code",
   "execution_count": 18,
   "metadata": {},
   "outputs": [
    {
     "name": "stdout",
     "output_type": "stream",
     "text": [
      "x:\n",
      " [[ 0  1  2  3  4  5]\n",
      " [ 6  7  8  9 10 11]]\n",
      "x.shape =  (2, 6) \n",
      "\n",
      "y:\n",
      " [[0 1 2 3 4 5]]\n",
      "y.shape =  (1, 6) \n",
      "\n",
      "x*y = [[ 0  1  4  9 16 25]\n",
      " [ 0  7 16 27 40 55]]\n"
     ]
    }
   ],
   "source": [
    "x = np.arange(0,12).reshape(2,6)\n",
    "y = np.arange(0,6).reshape(1,6)\n",
    "print('x:\\n',x)\n",
    "print('x.shape = ',x.shape,'\\n')\n",
    "print('y:\\n',y)\n",
    "print('y.shape = ',y.shape,'\\n')\n",
    "print('x*y =', x*y)"
   ]
  },
  {
   "cell_type": "code",
   "execution_count": 20,
   "metadata": {},
   "outputs": [
    {
     "name": "stdout",
     "output_type": "stream",
     "text": [
      "x:\n",
      " [[[ 0  1  2]\n",
      "  [ 3  4  5]\n",
      "  [ 6  7  8]]\n",
      "\n",
      " [[ 9 10 11]\n",
      "  [12 13 14]\n",
      "  [15 16 17]]]\n",
      "x.shape =  (2, 3, 3) \n",
      "\n",
      "y:\n",
      " [[[0]\n",
      "  [1]\n",
      "  [2]]\n",
      "\n",
      " [[3]\n",
      "  [4]\n",
      "  [5]]]\n",
      "y.shape =  (2, 3, 1) \n",
      "\n",
      "x*y = [[[ 0  0  0]\n",
      "  [ 3  4  5]\n",
      "  [12 14 16]]\n",
      "\n",
      " [[27 30 33]\n",
      "  [48 52 56]\n",
      "  [75 80 85]]]\n"
     ]
    }
   ],
   "source": [
    "x = np.arange(0,18).reshape(2,3,3)\n",
    "y = np.arange(0,6).reshape(2,3,1)\n",
    "\n",
    "print('x:\\n',x)\n",
    "print('x.shape = ',x.shape,'\\n')\n",
    "print('y:\\n',y)\n",
    "print('y.shape = ',y.shape,'\\n')\n",
    "\n",
    "print('x*y =', x*y)"
   ]
  },
  {
   "cell_type": "code",
   "execution_count": null,
   "metadata": {},
   "outputs": [],
   "source": []
  }
 ],
 "metadata": {
  "kernelspec": {
   "display_name": "Python 3",
   "language": "python",
   "name": "python3"
  },
  "language_info": {
   "codemirror_mode": {
    "name": "ipython",
    "version": 3
   },
   "file_extension": ".py",
   "mimetype": "text/x-python",
   "name": "python",
   "nbconvert_exporter": "python",
   "pygments_lexer": "ipython3",
   "version": "3.11.0"
  },
  "orig_nbformat": 4,
  "vscode": {
   "interpreter": {
    "hash": "cb4f8a03642b47cb027eefd1535a14aa954300fd8261a8da54e94e47011c5925"
   }
  }
 },
 "nbformat": 4,
 "nbformat_minor": 2
}
