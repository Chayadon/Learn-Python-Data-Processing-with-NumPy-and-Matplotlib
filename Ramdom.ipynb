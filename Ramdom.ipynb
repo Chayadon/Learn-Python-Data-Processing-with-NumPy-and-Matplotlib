{
 "cells": [
  {
   "attachments": {},
   "cell_type": "markdown",
   "metadata": {},
   "source": [
    "## Random Sampling"
   ]
  },
  {
   "cell_type": "code",
   "execution_count": 2,
   "metadata": {},
   "outputs": [],
   "source": [
    "import numpy as np\n",
    "from numpy.random import default_rng"
   ]
  },
  {
   "cell_type": "code",
   "execution_count": 3,
   "metadata": {},
   "outputs": [
    {
     "data": {
      "text/plain": [
       "array([0.22880916, 0.43915777, 0.23536176, 0.06099943, 0.1113748 ])"
      ]
     },
     "execution_count": 3,
     "metadata": {},
     "output_type": "execute_result"
    }
   ],
   "source": [
    "# Create object of defualt random number generator\n",
    "rng = default_rng()\n",
    "\n",
    "# Random 5 float numbers from 0.0 to 1.0\n",
    "rng.random(5)"
   ]
  },
  {
   "cell_type": "code",
   "execution_count": 9,
   "metadata": {},
   "outputs": [
    {
     "data": {
      "text/plain": [
       "array([0.84922227, 0.91790527, 0.05398659, 0.96137164, 0.96193194])"
      ]
     },
     "execution_count": 9,
     "metadata": {},
     "output_type": "execute_result"
    }
   ],
   "source": [
    "from numpy import random\n",
    "\n",
    "random.rand(5)"
   ]
  },
  {
   "cell_type": "code",
   "execution_count": 8,
   "metadata": {},
   "outputs": [
    {
     "data": {
      "text/plain": [
       "array([0.75694783, 0.94138187, 0.59246304, 0.31884171, 0.62607384,\n",
       "       0.03551387, 0.25212696, 0.48501366, 0.30126688, 0.72195094,\n",
       "       0.92989066, 0.90823581, 0.08495856, 0.27036617, 0.97168176,\n",
       "       0.26015007, 0.80052031, 0.79827865, 0.6425692 , 0.66806864,\n",
       "       0.23521315, 0.02190576, 0.12961145, 0.12298406, 0.45408739,\n",
       "       0.47734517, 0.66692504, 0.80072716, 0.42069822, 0.11445225,\n",
       "       0.25617877, 0.48995179, 0.08528271, 0.7167631 , 0.33100379,\n",
       "       0.61018338, 0.59819869, 0.82549985, 0.88627002, 0.85022632,\n",
       "       0.52795471, 0.46057818, 0.02466648, 0.93499413, 0.33640568,\n",
       "       0.13258264, 0.19667242, 0.3612112 , 0.23337686, 0.15231137])"
      ]
     },
     "execution_count": 8,
     "metadata": {},
     "output_type": "execute_result"
    }
   ],
   "source": [
    "#seed = 2021\n",
    "rng = default_rng(2021)\n",
    "\n",
    "rng.random(50)"
   ]
  },
  {
   "cell_type": "code",
   "execution_count": 11,
   "metadata": {},
   "outputs": [
    {
     "data": {
      "text/plain": [
       "array([0.75694783, 0.94138187, 0.59246304, 0.31884171, 0.62607384,\n",
       "       0.03551387, 0.25212696, 0.48501366, 0.30126688, 0.72195094,\n",
       "       0.92989066, 0.90823581, 0.08495856, 0.27036617, 0.97168176,\n",
       "       0.26015007, 0.80052031, 0.79827865, 0.6425692 , 0.66806864,\n",
       "       0.23521315, 0.02190576, 0.12961145, 0.12298406, 0.45408739,\n",
       "       0.47734517, 0.66692504, 0.80072716, 0.42069822, 0.11445225,\n",
       "       0.25617877, 0.48995179, 0.08528271, 0.7167631 , 0.33100379,\n",
       "       0.61018338, 0.59819869, 0.82549985, 0.88627002, 0.85022632,\n",
       "       0.52795471, 0.46057818, 0.02466648, 0.93499413, 0.33640568,\n",
       "       0.13258264, 0.19667242, 0.3612112 , 0.23337686, 0.15231137])"
      ]
     },
     "execution_count": 11,
     "metadata": {},
     "output_type": "execute_result"
    }
   ],
   "source": [
    "#seed = 2021\n",
    "rng = default_rng(2021)\n",
    "\n",
    "rng.random(50)"
   ]
  },
  {
   "attachments": {},
   "cell_type": "markdown",
   "metadata": {},
   "source": [
    "### Basic Random Numbers"
   ]
  },
  {
   "cell_type": "code",
   "execution_count": 13,
   "metadata": {},
   "outputs": [
    {
     "data": {
      "text/plain": [
       "array([4, 4, 2, 7, 5], dtype=int64)"
      ]
     },
     "execution_count": 13,
     "metadata": {},
     "output_type": "execute_result"
    }
   ],
   "source": [
    "rng = default_rng()\n",
    "\n",
    "rng.integers(low=0, high=10, endpoint=True,size=5)"
   ]
  },
  {
   "cell_type": "code",
   "execution_count": 14,
   "metadata": {},
   "outputs": [
    {
     "data": {
      "text/plain": [
       "array([0.12313632, 0.09056636, 0.04773914, 0.71628311, 0.90258507])"
      ]
     },
     "execution_count": 14,
     "metadata": {},
     "output_type": "execute_result"
    }
   ],
   "source": [
    "rng.random(5)\n"
   ]
  },
  {
   "cell_type": "code",
   "execution_count": 16,
   "metadata": {},
   "outputs": [
    {
     "data": {
      "text/plain": [
       "array([[0.33931547, 0.1529066 , 0.03185405, 0.85608422, 0.30265704],\n",
       "       [0.29097189, 0.55056522, 0.13244043, 0.17069974, 0.2032011 ]])"
      ]
     },
     "execution_count": 16,
     "metadata": {},
     "output_type": "execute_result"
    }
   ],
   "source": [
    "rng.random(10).reshape(2,5)"
   ]
  },
  {
   "cell_type": "code",
   "execution_count": 17,
   "metadata": {},
   "outputs": [
    {
     "data": {
      "text/plain": [
       "array([  0,   3,   6,   9,  12,  15,  18,  21,  24,  27,  30,  33,  36,\n",
       "        39,  42,  45,  48,  51,  54,  57,  60,  63,  66,  69,  72,  75,\n",
       "        78,  81,  84,  87,  90,  93,  96,  99, 102, 105, 108, 111, 114,\n",
       "       117, 120, 123, 126, 129, 132, 135, 138, 141, 144, 147])"
      ]
     },
     "execution_count": 17,
     "metadata": {},
     "output_type": "execute_result"
    }
   ],
   "source": [
    "int_ds = np.arange(0,150,3)\n",
    "int_ds"
   ]
  },
  {
   "cell_type": "code",
   "execution_count": 19,
   "metadata": {},
   "outputs": [
    {
     "data": {
      "text/plain": [
       "array([138, 117,   0,   6, 117, 126,  60, 111,  27, 141])"
      ]
     },
     "execution_count": 19,
     "metadata": {},
     "output_type": "execute_result"
    }
   ],
   "source": [
    "rng.choice(int_ds, size=10)"
   ]
  },
  {
   "cell_type": "code",
   "execution_count": 20,
   "metadata": {},
   "outputs": [
    {
     "data": {
      "text/plain": [
       "array([[114,  90],\n",
       "       [120,  45],\n",
       "       [ 66,  60],\n",
       "       [135,  15],\n",
       "       [ 90, 135]])"
      ]
     },
     "execution_count": 20,
     "metadata": {},
     "output_type": "execute_result"
    }
   ],
   "source": [
    "rng.choice( int_ds, size=(5,2) )"
   ]
  },
  {
   "cell_type": "code",
   "execution_count": 21,
   "metadata": {},
   "outputs": [
    {
     "data": {
      "text/plain": [
       "array([[  0,   3,   6,   9,  12,  15,  18,  21,  24,  27],\n",
       "       [ 30,  33,  36,  39,  42,  45,  48,  51,  54,  57],\n",
       "       [ 60,  63,  66,  69,  72,  75,  78,  81,  84,  87],\n",
       "       [ 90,  93,  96,  99, 102, 105, 108, 111, 114, 117],\n",
       "       [120, 123, 126, 129, 132, 135, 138, 141, 144, 147]])"
      ]
     },
     "execution_count": 21,
     "metadata": {},
     "output_type": "execute_result"
    }
   ],
   "source": [
    "int_ds2 = int_ds.reshape(5,10)\n",
    "int_ds2"
   ]
  },
  {
   "cell_type": "code",
   "execution_count": 39,
   "metadata": {},
   "outputs": [
    {
     "name": "stdout",
     "output_type": "stream",
     "text": [
      "[[ 60  63  66  69  72  75  78  81  84  87]\n",
      " [ 90  93  96  99 102 105 108 111 114 117]]\n",
      "x.shape = (2, 10)\n"
     ]
    }
   ],
   "source": [
    "x = rng.choice(int_ds2, size=(2,), axis=0)\n",
    "print(x)\n",
    "print('x.shape =',x.shape)"
   ]
  },
  {
   "cell_type": "code",
   "execution_count": 42,
   "metadata": {},
   "outputs": [
    {
     "name": "stdout",
     "output_type": "stream",
     "text": [
      "[[ 18  15]\n",
      " [ 48  45]\n",
      " [ 78  75]\n",
      " [108 105]\n",
      " [138 135]]\n",
      "x.shape = (5, 2)\n"
     ]
    }
   ],
   "source": [
    "x = rng.choice(int_ds2, size=(2,), axis=1)\n",
    "print(x)\n",
    "print('x.shape =',x.shape)"
   ]
  },
  {
   "cell_type": "code",
   "execution_count": 44,
   "metadata": {},
   "outputs": [
    {
     "name": "stdout",
     "output_type": "stream",
     "text": [
      "[0 1 2 3 4 5 6 7 8 9] \n",
      "\n",
      "[8 0 5 9 3 2 4 7 1 6]\n"
     ]
    }
   ],
   "source": [
    "x = np.arange(0,10)\n",
    "print(x,'\\n')\n",
    "\n",
    "rng = default_rng()\n",
    "rng.shuffle(x)\n",
    "print(x)"
   ]
  },
  {
   "cell_type": "code",
   "execution_count": 46,
   "metadata": {},
   "outputs": [
    {
     "name": "stdout",
     "output_type": "stream",
     "text": [
      "[[ 0  1  2  3]\n",
      " [ 4  5  6  7]\n",
      " [ 8  9 10 11]] \n",
      "\n",
      "[[ 8  9 10 11]\n",
      " [ 4  5  6  7]\n",
      " [ 0  1  2  3]]\n"
     ]
    }
   ],
   "source": [
    "x = np.arange(0,12).reshape(3,4)\n",
    "print(x ,'\\n')\n",
    "\n",
    "rng.shuffle(x, axis=0)\n",
    "print(x)"
   ]
  },
  {
   "cell_type": "code",
   "execution_count": 47,
   "metadata": {},
   "outputs": [
    {
     "name": "stdout",
     "output_type": "stream",
     "text": [
      "[[ 0  1  2  3]\n",
      " [ 4  5  6  7]\n",
      " [ 8  9 10 11]] \n",
      "\n",
      "[[ 3  0  2  1]\n",
      " [ 7  4  6  5]\n",
      " [11  8 10  9]]\n"
     ]
    }
   ],
   "source": [
    "x = np.arange(0,12).reshape(3,4)\n",
    "print(x ,'\\n')\n",
    "\n",
    "rng.shuffle(x, axis=1)\n",
    "print(x)"
   ]
  },
  {
   "cell_type": "code",
   "execution_count": 48,
   "metadata": {},
   "outputs": [
    {
     "name": "stdout",
     "output_type": "stream",
     "text": [
      "[0 1 2 3 4 5 6 7 8 9] \n",
      "\n",
      "[1 6 4 8 5 7 0 9 2 3]\n"
     ]
    }
   ],
   "source": [
    "x = np.arange(0,10)\n",
    "print(x ,'\\n')\n",
    "\n",
    "pm = rng.permuted(x)\n",
    "print(pm)"
   ]
  },
  {
   "cell_type": "code",
   "execution_count": 49,
   "metadata": {},
   "outputs": [
    {
     "data": {
      "text/plain": [
       "False"
      ]
     },
     "execution_count": 49,
     "metadata": {},
     "output_type": "execute_result"
    }
   ],
   "source": [
    "x is pm"
   ]
  },
  {
   "cell_type": "code",
   "execution_count": null,
   "metadata": {},
   "outputs": [],
   "source": []
  }
 ],
 "metadata": {
  "kernelspec": {
   "display_name": "Python 3",
   "language": "python",
   "name": "python3"
  },
  "language_info": {
   "codemirror_mode": {
    "name": "ipython",
    "version": 3
   },
   "file_extension": ".py",
   "mimetype": "text/x-python",
   "name": "python",
   "nbconvert_exporter": "python",
   "pygments_lexer": "ipython3",
   "version": "3.11.0 (main, Oct 24 2022, 18:26:48) [MSC v.1933 64 bit (AMD64)]"
  },
  "orig_nbformat": 4,
  "vscode": {
   "interpreter": {
    "hash": "cb4f8a03642b47cb027eefd1535a14aa954300fd8261a8da54e94e47011c5925"
   }
  }
 },
 "nbformat": 4,
 "nbformat_minor": 2
}
